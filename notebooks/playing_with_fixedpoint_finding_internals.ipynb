{
 "cells": [
  {
   "cell_type": "markdown",
   "id": "95202f10",
   "metadata": {},
   "source": [
    "# SteadyCellPhenotype python interface\n"
   ]
  },
  {
   "cell_type": "code",
   "execution_count": 1,
   "id": "2bfb253f",
   "metadata": {},
   "outputs": [],
   "source": [
    "import operator\n",
    "import numpy as np\n",
    "\n",
    "from itertools import product\n",
    "from functools import reduce\n",
    "\n",
    "from steady_cell_phenotype.equation_system import *\n",
    "from steady_cell_phenotype.poly import *"
   ]
  },
  {
   "cell_type": "code",
   "execution_count": 2,
   "id": "aaf8abaa",
   "metadata": {},
   "outputs": [
    {
     "data": {
      "text/plain": [
       "A=MIN(B,C)\n",
       "B=C\n",
       "C=NOT(A)"
      ]
     },
     "execution_count": 2,
     "metadata": {},
     "output_type": "execute_result"
    }
   ],
   "source": [
    "# create an equation system from a text-based update function\n",
    "eqn_sys = EquationSystem.from_text(\"\"\"\n",
    "A=MIN(B,C)\n",
    "B=C\n",
    "C=NOT(A)\n",
    "\"\"\")\n",
    "\n",
    "eqn_sys"
   ]
  },
  {
   "cell_type": "code",
   "execution_count": 3,
   "id": "efe513cf",
   "metadata": {},
   "outputs": [
    {
     "data": {
      "text/plain": [
       "[{'B': 1, 'A': 1, 'C': 1}]"
      ]
     },
     "execution_count": 3,
     "metadata": {},
     "output_type": "execute_result"
    }
   ],
   "source": [
    "eqn_sys.find_all_fixed_points()"
   ]
  },
  {
   "cell_type": "raw",
   "id": "2f7b4a50",
   "metadata": {},
   "source": [
    "%%timeit\n",
    "\n",
    "eqn_sys.find_all_fixed_points()"
   ]
  },
  {
   "cell_type": "code",
   "execution_count": null,
   "id": "eb586532",
   "metadata": {},
   "outputs": [],
   "source": []
  },
  {
   "cell_type": "code",
   "execution_count": null,
   "id": "e848107f",
   "metadata": {},
   "outputs": [],
   "source": []
  },
  {
   "cell_type": "code",
   "execution_count": null,
   "id": "c945b612",
   "metadata": {},
   "outputs": [],
   "source": []
  },
  {
   "cell_type": "code",
   "execution_count": 4,
   "id": "133e3034",
   "metadata": {},
   "outputs": [
    {
     "data": {
      "text/plain": [
       "A=MIN(B,C)\n",
       "B=C\n",
       "C=NOT(A)\n",
       "D=NOT(D)"
      ]
     },
     "execution_count": 4,
     "metadata": {},
     "output_type": "execute_result"
    }
   ],
   "source": [
    "# create an equation system from a text-based update function\n",
    "eqn_sys = EquationSystem.from_text(\"\"\"\n",
    "A=MIN(B,C)\n",
    "B=C\n",
    "C=NOT(A)\n",
    "D=NOT(D)\n",
    "\"\"\")\n",
    "\n",
    "eqn_sys"
   ]
  },
  {
   "cell_type": "code",
   "execution_count": 5,
   "id": "6789c075",
   "metadata": {},
   "outputs": [
    {
     "data": {
      "text/plain": [
       "[{'B': 1, 'A': 1, 'C': 1, 'D': 1}]"
      ]
     },
     "execution_count": 5,
     "metadata": {},
     "output_type": "execute_result"
    }
   ],
   "source": [
    "eqn_sys.find_all_fixed_points()"
   ]
  },
  {
   "cell_type": "code",
   "execution_count": null,
   "id": "1f746424",
   "metadata": {},
   "outputs": [],
   "source": []
  },
  {
   "cell_type": "code",
   "execution_count": null,
   "id": "021a2696",
   "metadata": {},
   "outputs": [],
   "source": []
  },
  {
   "cell_type": "code",
   "execution_count": 6,
   "id": "c7cd84a4",
   "metadata": {},
   "outputs": [
    {
     "data": {
      "text/plain": [
       "A=MIN(B,C)\n",
       "B=C\n",
       "C=NOT(A)\n",
       "D=NOT(D)\n",
       "E=MIN(A,MAX(C,D))"
      ]
     },
     "execution_count": 6,
     "metadata": {},
     "output_type": "execute_result"
    }
   ],
   "source": [
    "# create an equation system from a text-based update function\n",
    "eqn_sys = EquationSystem.from_text(\"\"\"\n",
    "A=MIN(B,C)\n",
    "B=C\n",
    "C=NOT(A)\n",
    "D=NOT(D)\n",
    "E=MIN(A,MAX(C,D))\n",
    "\"\"\")\n",
    "\n",
    "eqn_sys"
   ]
  },
  {
   "cell_type": "code",
   "execution_count": 7,
   "id": "8587c838",
   "metadata": {},
   "outputs": [
    {
     "data": {
      "text/plain": [
       "[{'E': 1, 'B': 1, 'A': 1, 'C': 1, 'D': 1}]"
      ]
     },
     "execution_count": 7,
     "metadata": {},
     "output_type": "execute_result"
    }
   ],
   "source": [
    "#eqn_sys.separate_output_variables()\n",
    "eqn_sys.find_all_fixed_points()"
   ]
  },
  {
   "cell_type": "code",
   "execution_count": null,
   "id": "63ac2352",
   "metadata": {},
   "outputs": [],
   "source": []
  },
  {
   "cell_type": "code",
   "execution_count": null,
   "id": "39a76eb3",
   "metadata": {},
   "outputs": [],
   "source": []
  },
  {
   "cell_type": "code",
   "execution_count": null,
   "id": "b850c5c1",
   "metadata": {},
   "outputs": [],
   "source": []
  },
  {
   "cell_type": "code",
   "execution_count": 8,
   "id": "3dc80cf9",
   "metadata": {
    "scrolled": true
   },
   "outputs": [
    {
     "data": {
      "text/plain": [
       "LIP=MAX(MIN(HEME,HO1),TFEND)+(((MIN(NOT(FPN),MIN(NOT(FT),NOT(MFRN)))*MAX(MIN(HEME,HO1),TFEND))*2)+(((MIN(NOT(FPN),MIN(NOT(FT),NOT(MFRN)))^2)*MAX(MIN(HEME,HO1),TFEND))+(((MAX(MIN(HEME,HO1),TFEND)^2)*2)+(((MIN(NOT(FPN),MIN(NOT(FT),NOT(MFRN)))*(MAX(MIN(HEME,HO1),TFEND)^2))*2)+(((MIN(NOT(FPN),MIN(NOT(FT),NOT(MFRN)))^2)*(MAX(MIN(HEME,HO1),TFEND)^2))*2)))))\n",
       "TFEND=((NOT(MFRN)^2)*MIN(TF,TFR1))+((MIN(TF,TFR1)^2)+(((NOT(MFRN)^2)*(MIN(TF,TFR1)^2))*2))\n",
       "TFR1=MAX(IRP1,MAX(IRP2,MAX(MIN(EGF,EGFR),MYC)))\n",
       "FPN=MIN(NOT(IRP1),MIN(NOT(IRP2),NOT(HEP)))\n",
       "FT=MIN(MIN(NOT(IRP1),NOT(IRP2)),NOT(NCOA4))\n",
       "IRP1=MIN(NOT(ISCU),NOT(FBXL5))\n",
       "IRP2=MAX(MIN(NOT(LIP),NOT(FBXL5)),MYC)\n",
       "HEP=MAX(STAT3,SMAD154)\n",
       "NCOA4=NOT(LIP)\n",
       "FBXL5=LIP\n",
       "LIPMT=MIN(MAX(MIN(MFRN,LIP),MIN(MFRN,MIN(TF,TFR1))),MIN(NOT(FTMT),NOT(FXN)))\n",
       "MFRN=NOT(LIPMT)\n",
       "FTMT=LIPMT\n",
       "ISCU=MIN(FXN,P53)\n",
       "FXN=MIN(P53,LIPMT)\n",
       "FECH=MIN(ISCU,FXN)\n",
       "HEME=MIN(MIN(ALAS1,FECH),NOT(HO1))\n",
       "ALAS1=MIN(NOT(HEME),LIPMT)\n",
       "HO1=MAX(HEME,NRF2)\n",
       "ROS=MAX(LIP,MAX(RAS,MIN(EGF,EGFR)))+(((NOT(AE)*MAX(LIP,MAX(RAS,MIN(EGF,EGFR))))*2)+(((NOT(AE)^2)*MAX(LIP,MAX(RAS,MIN(EGF,EGFR))))+(((MAX(LIP,MAX(RAS,MIN(EGF,EGFR)))^2)*2)+(((NOT(AE)*(MAX(LIP,MAX(RAS,MIN(EGF,EGFR)))^2))*2)+(((NOT(AE)^2)*(MAX(LIP,MAX(RAS,MIN(EGF,EGFR)))^2))*2)))))\n",
       "KEAP1=MIN(NOT(ROS),NRF2)\n",
       "NRF2=MAX(MAX(RAS,ERK),MIN(2+2*KEAP1+KEAP1^2*P21C+2*KEAP1^2*P21C^2,NOT(GSK3B)))\n",
       "AE=MAX(P53,NRF2)\n",
       "EGFR=MIN(EGF+2*EGF*ROS+2*EGF^2*ROS+EGF*ROS^2+EGF^2*ROS^2,NOT(NDRG1))\n",
       "PTEN=MIN(MAX(ROCK,MAX(P53,NDRG1)),NOT(ROS))\n",
       "NDRG1=MAX(NOT(LIP),PTEN)\n",
       "AKT=PIP3\n",
       "PI3K=MAX(MIN(EGF,EGFR),RAS)\n",
       "PIP3=MIN(PI3K,NOT(PTEN))\n",
       "ERK=(NOT(AKT)*MAX(PIP3,RAS))+((((NOT(AKT)^2)*MAX(PIP3,RAS))*2)+((MAX(PIP3,RAS)^2)+(((NOT(AKT)*(MAX(PIP3,RAS)^2))*2)+((NOT(AKT)^2)*(MAX(PIP3,RAS)^2)))))\n",
       "SOS=MIN(MIN(EGF,EGFR),NOT(ERK))\n",
       "RAS=MIN(SOS,NOT(GAP))\n",
       "GAP=MIN(EGF,EGFR)\n",
       "MYC=MIN(MAX(AKT,ERK),MIN(NOT(SMAD3),MIN(NOT(GSK3B),NOT(P53))))\n",
       "MDM2=MIN(MAX(AKT,P53),NOT(2*DNAD^2))\n",
       "P53=MAX(2*DNAD^2,MIN(MAX(PTEN,ERK),MIN(NOT(MDM2),MIN(NOT(STAT3),NOT(HEME)))))\n",
       "STAT3=MIN(MAX(IL6R,MIN(EGF,EGFR)),NOT(ERK))\n",
       "SMAD4=NDRG1\n",
       "SMAD3=TGFBR\n",
       "SMAD23=TGFBR+(2*TGFBR^2+((NOT(ERK)^2)*TGFBR^2))\n",
       "SMAD234=SMAD23*SMAD4^2\n",
       "SMAD15=BMPR\n",
       "SMAD154=SMAD15*SMAD4^2\n",
       "ROCK=NOT(P21C)\n",
       "GSK3B=NOT(AKT)\n",
       "P15=SMAD234+(2*SMAD234^2+((NOT(MYC)^2)*SMAD234^2))\n",
       "P21C=NOT(P21N)\n",
       "P21N=MAX(NDRG1,MAX(P53,SMAD234))+(((MAX(NDRG1,MAX(P53,SMAD234))^2)*2)+((MIN(NOT(MYC),MIN(NOT(CYCLINECDK2),NOT(AKT)))^2)*(MAX(NDRG1,MAX(P53,SMAD234))^2)))\n",
       "CDK46=MYC+(2*MYC^2+((NOT(P15)^2)*MYC^2))\n",
       "CYCLIND1=MIN(CDK46,MIN(2+2*GSK3B+GSK3B^2*P21N+2*GSK3B^2*P21N^2,ERK))\n",
       "CYCLIND1CDK46=CYCLIND1\n",
       "RB=MIN(NOT(CYCLIND1CDK46),NOT(CYCLINECDK2))\n",
       "E2F=MIN(MYC,NOT(RB))\n",
       "CDC25A=MIN(MIN(NOT(CYCLIND1CDK46),MIN(E2F,CYCLINECDK2)),NOT(2*DNAD^2))\n",
       "CYCLINECDK2=MIN(MAX(E2F,CDC25A),NOT(P21N))\n",
       "PCNA=MIN(E2F,NOT(P21N))\n",
       "RR=MAX(LIP,MAX(E2F,PCNA))\n",
       "TF=1\n",
       "EGF=1\n",
       "IL6R=0\n",
       "BMPR=0\n",
       "TGFBR=0\n",
       "DNAD=0"
      ]
     },
     "execution_count": 8,
     "metadata": {},
     "output_type": "execute_result"
    }
   ],
   "source": [
    "with open('../models/final_model_08_19_2020.txt') as file:\n",
    "    eqn_sys = EquationSystem.from_text(file.read())\n",
    "    \n",
    "eqn_sys"
   ]
  },
  {
   "cell_type": "code",
   "execution_count": 9,
   "id": "a08e89b7",
   "metadata": {},
   "outputs": [
    {
     "data": {
      "text/plain": [
       "[{'RR': 1,\n",
       "  'PCNA': 1,\n",
       "  'NCOA4': 1,\n",
       "  'FBXL5': 1,\n",
       "  'MFRN': 1,\n",
       "  'FTMT': 1,\n",
       "  'AKT': 1,\n",
       "  'SMAD4': 1,\n",
       "  'SMAD3': 0,\n",
       "  'SMAD15': 0,\n",
       "  'ROCK': 1,\n",
       "  'GSK3B': 1,\n",
       "  'P21C': 1,\n",
       "  'CYCLIND1CDK46': 1,\n",
       "  'TF': 1,\n",
       "  'TFEND': 1,\n",
       "  'EGF': 1,\n",
       "  'GAP': 1,\n",
       "  'IL6R': 0,\n",
       "  'BMPR': 0,\n",
       "  'SMAD154': 0,\n",
       "  'HEP': 1,\n",
       "  'TGFBR': 0,\n",
       "  'SMAD23': 0,\n",
       "  'SMAD234': 0,\n",
       "  'P15': 0,\n",
       "  'CDK46': 1,\n",
       "  'DNAD': 0,\n",
       "  'LIP': 1,\n",
       "  'TFR1': 1,\n",
       "  'FPN': 1,\n",
       "  'FT': 1,\n",
       "  'IRP1': 1,\n",
       "  'IRP2': 1,\n",
       "  'NDRG1': 1,\n",
       "  'EGFR': 1,\n",
       "  'P53': 1,\n",
       "  'MDM2': 1,\n",
       "  'STAT3': 1,\n",
       "  'ISCU': 1,\n",
       "  'FXN': 1,\n",
       "  'FECH': 1,\n",
       "  'AE': 1,\n",
       "  'LIPMT': 1,\n",
       "  'ALAS1': 1,\n",
       "  'NRF2': 1,\n",
       "  'KEAP1': 1,\n",
       "  'HO1': 1,\n",
       "  'ROS': 1,\n",
       "  'PTEN': 1,\n",
       "  'PI3K': 1,\n",
       "  'PIP3': 1,\n",
       "  'ERK': 1,\n",
       "  'SOS': 1,\n",
       "  'RAS': 1,\n",
       "  'MYC': 1,\n",
       "  'P21N': 1,\n",
       "  'CYCLIND1': 1,\n",
       "  'RB': 1,\n",
       "  'E2F': 1,\n",
       "  'CDC25A': 1,\n",
       "  'CYCLINECDK2': 1,\n",
       "  'HEME': 1}]"
      ]
     },
     "execution_count": 9,
     "metadata": {},
     "output_type": "execute_result"
    }
   ],
   "source": [
    "eqn_sys.find_all_fixed_points()"
   ]
  },
  {
   "cell_type": "code",
   "execution_count": 10,
   "id": "5322a84e",
   "metadata": {},
   "outputs": [
    {
     "name": "stdout",
     "output_type": "stream",
     "text": [
      "17.8 s ± 198 ms per loop (mean ± std. dev. of 7 runs, 1 loop each)\n"
     ]
    }
   ],
   "source": [
    "%%timeit\n",
    "\n",
    "eqn_sys.find_all_fixed_points()"
   ]
  },
  {
   "cell_type": "code",
   "execution_count": null,
   "id": "1f680544",
   "metadata": {},
   "outputs": [],
   "source": []
  },
  {
   "cell_type": "code",
   "execution_count": null,
   "id": "394b0517",
   "metadata": {},
   "outputs": [],
   "source": []
  },
  {
   "cell_type": "code",
   "execution_count": 11,
   "id": "813dfdd5",
   "metadata": {},
   "outputs": [
    {
     "data": {
      "text/plain": [
       "LIP=MAX(MIN(HEME,HO1),TFEND)+(((MIN(NOT(FPN),MIN(NOT(FT),NOT(MFRN)))*MAX(MIN(HEME,HO1),TFEND))*2)+(((MIN(NOT(FPN),MIN(NOT(FT),NOT(MFRN)))^2)*MAX(MIN(HEME,HO1),TFEND))+(((MAX(MIN(HEME,HO1),TFEND)^2)*2)+(((MIN(NOT(FPN),MIN(NOT(FT),NOT(MFRN)))*(MAX(MIN(HEME,HO1),TFEND)^2))*2)+(((MIN(NOT(FPN),MIN(NOT(FT),NOT(MFRN)))^2)*(MAX(MIN(HEME,HO1),TFEND)^2))*2)))))\n",
       "TFEND=((NOT(MFRN)^2)*MIN(TF,TFR1))+((MIN(TF,TFR1)^2)+(((NOT(MFRN)^2)*(MIN(TF,TFR1)^2))*2))\n",
       "TFR1=MAX(IRP1,MAX(IRP2,MAX(MIN(EGF,EGFR),MYC)))\n",
       "FPN=MIN(NOT(IRP1),MIN(NOT(IRP2),NOT(HEP)))\n",
       "FT=MIN(MIN(NOT(IRP1),NOT(IRP2)),NOT(NCOA4))\n",
       "IRP1=MIN(NOT(ISCU),NOT(FBXL5))\n",
       "IRP2=MAX(MIN(NOT(LIP),NOT(FBXL5)),MYC)\n",
       "HEP=MAX(STAT3,SMAD154)\n",
       "NCOA4=NOT(LIP)\n",
       "FBXL5=LIP\n",
       "LIPMT=MIN(MAX(MIN(MFRN,LIP),MIN(MFRN,MIN(TF,TFR1))),MIN(NOT(FTMT),NOT(FXN)))\n",
       "MFRN=NOT(LIPMT)\n",
       "FTMT=LIPMT\n",
       "ISCU=MIN(FXN,P53)\n",
       "FXN=MIN(P53,LIPMT)\n",
       "FECH=MIN(ISCU,FXN)\n",
       "HEME=MIN(MIN(ALAS1,FECH),NOT(HO1))\n",
       "ALAS1=MIN(NOT(HEME),LIPMT)\n",
       "HO1=MAX(HEME,NRF2)\n",
       "ROS=MAX(LIP,MAX(RAS,MIN(EGF,EGFR)))+(((NOT(AE)*MAX(LIP,MAX(RAS,MIN(EGF,EGFR))))*2)+(((NOT(AE)^2)*MAX(LIP,MAX(RAS,MIN(EGF,EGFR))))+(((MAX(LIP,MAX(RAS,MIN(EGF,EGFR)))^2)*2)+(((NOT(AE)*(MAX(LIP,MAX(RAS,MIN(EGF,EGFR)))^2))*2)+(((NOT(AE)^2)*(MAX(LIP,MAX(RAS,MIN(EGF,EGFR)))^2))*2)))))\n",
       "KEAP1=MIN(NOT(ROS),NRF2)\n",
       "NRF2=MAX(MAX(RAS,ERK),MIN(2+2*KEAP1+KEAP1^2*P21C+2*KEAP1^2*P21C^2,NOT(GSK3B)))\n",
       "AE=MAX(P53,NRF2)\n",
       "EGFR=MIN(EGF+2*EGF*ROS+2*EGF^2*ROS+EGF*ROS^2+EGF^2*ROS^2,NOT(NDRG1))\n",
       "PTEN=MIN(MAX(ROCK,MAX(P53,NDRG1)),NOT(ROS))\n",
       "NDRG1=MAX(NOT(LIP),PTEN)\n",
       "AKT=PIP3\n",
       "PI3K=MAX(MIN(EGF,EGFR),RAS)\n",
       "PIP3=MIN(PI3K,NOT(PTEN))\n",
       "ERK=(NOT(AKT)*MAX(PIP3,RAS))+((((NOT(AKT)^2)*MAX(PIP3,RAS))*2)+((MAX(PIP3,RAS)^2)+(((NOT(AKT)*(MAX(PIP3,RAS)^2))*2)+((NOT(AKT)^2)*(MAX(PIP3,RAS)^2)))))\n",
       "SOS=MIN(MIN(EGF,EGFR),NOT(ERK))\n",
       "RAS=MIN(SOS,NOT(GAP))\n",
       "GAP=MIN(EGF,EGFR)\n",
       "MYC=MIN(MAX(AKT,ERK),MIN(NOT(SMAD3),MIN(NOT(GSK3B),NOT(P53))))\n",
       "MDM2=MIN(MAX(AKT,P53),NOT(2*DNAD^2))\n",
       "P53=MAX(2*DNAD^2,MIN(MAX(PTEN,ERK),MIN(NOT(MDM2),MIN(NOT(STAT3),NOT(HEME)))))\n",
       "STAT3=MIN(MAX(IL6R,MIN(EGF,EGFR)),NOT(ERK))\n",
       "SMAD4=NDRG1\n",
       "SMAD3=TGFBR\n",
       "SMAD23=TGFBR+(2*TGFBR^2+((NOT(ERK)^2)*TGFBR^2))\n",
       "SMAD234=SMAD23*SMAD4^2\n",
       "SMAD15=BMPR\n",
       "SMAD154=SMAD15*SMAD4^2\n",
       "ROCK=NOT(P21C)\n",
       "GSK3B=NOT(AKT)\n",
       "P15=SMAD234+(2*SMAD234^2+((NOT(MYC)^2)*SMAD234^2))\n",
       "P21C=NOT(P21N)\n",
       "P21N=MAX(NDRG1,MAX(P53,SMAD234))+(((MAX(NDRG1,MAX(P53,SMAD234))^2)*2)+((MIN(NOT(MYC),MIN(NOT(CYCLINECDK2),NOT(AKT)))^2)*(MAX(NDRG1,MAX(P53,SMAD234))^2)))\n",
       "CDK46=MYC+(2*MYC^2+((NOT(P15)^2)*MYC^2))\n",
       "CYCLIND1=MIN(CDK46,MIN(2+2*GSK3B+GSK3B^2*P21N+2*GSK3B^2*P21N^2,ERK))\n",
       "CYCLIND1CDK46=CYCLIND1\n",
       "RB=MIN(NOT(CYCLIND1CDK46),NOT(CYCLINECDK2))\n",
       "E2F=MIN(MYC,NOT(RB))\n",
       "CDC25A=MIN(MIN(NOT(CYCLIND1CDK46),MIN(E2F,CYCLINECDK2)),NOT(2*DNAD^2))\n",
       "CYCLINECDK2=MIN(MAX(E2F,CDC25A),NOT(P21N))\n",
       "PCNA=MIN(E2F,NOT(P21N))\n",
       "RR=MAX(LIP,MAX(E2F,PCNA))\n",
       "TF=1\n",
       "EGF=1\n",
       "IL6R=0\n",
       "BMPR=0\n",
       "TGFBR=0\n",
       "DNAD=0"
      ]
     },
     "execution_count": 11,
     "metadata": {},
     "output_type": "execute_result"
    }
   ],
   "source": [
    "with open('../models/final_model.txt') as file:\n",
    "    eqn_sys = EquationSystem.from_text(file.read())\n",
    "    \n",
    "eqn_sys"
   ]
  },
  {
   "cell_type": "code",
   "execution_count": 12,
   "id": "78af2a30",
   "metadata": {},
   "outputs": [
    {
     "data": {
      "text/plain": [
       "[{'RR': 1,\n",
       "  'PCNA': 1,\n",
       "  'NCOA4': 1,\n",
       "  'FBXL5': 1,\n",
       "  'MFRN': 1,\n",
       "  'FTMT': 1,\n",
       "  'AKT': 1,\n",
       "  'SMAD4': 1,\n",
       "  'SMAD3': 0,\n",
       "  'SMAD15': 0,\n",
       "  'ROCK': 1,\n",
       "  'GSK3B': 1,\n",
       "  'P21C': 1,\n",
       "  'CYCLIND1CDK46': 1,\n",
       "  'TF': 1,\n",
       "  'TFEND': 1,\n",
       "  'EGF': 1,\n",
       "  'GAP': 1,\n",
       "  'IL6R': 0,\n",
       "  'BMPR': 0,\n",
       "  'SMAD154': 0,\n",
       "  'HEP': 1,\n",
       "  'TGFBR': 0,\n",
       "  'SMAD23': 0,\n",
       "  'SMAD234': 0,\n",
       "  'P15': 0,\n",
       "  'CDK46': 1,\n",
       "  'DNAD': 0,\n",
       "  'LIP': 1,\n",
       "  'TFR1': 1,\n",
       "  'FPN': 1,\n",
       "  'FT': 1,\n",
       "  'IRP1': 1,\n",
       "  'IRP2': 1,\n",
       "  'NDRG1': 1,\n",
       "  'EGFR': 1,\n",
       "  'P53': 1,\n",
       "  'MDM2': 1,\n",
       "  'STAT3': 1,\n",
       "  'ISCU': 1,\n",
       "  'FXN': 1,\n",
       "  'FECH': 1,\n",
       "  'AE': 1,\n",
       "  'LIPMT': 1,\n",
       "  'ALAS1': 1,\n",
       "  'NRF2': 1,\n",
       "  'KEAP1': 1,\n",
       "  'HO1': 1,\n",
       "  'ROS': 1,\n",
       "  'PTEN': 1,\n",
       "  'PI3K': 1,\n",
       "  'PIP3': 1,\n",
       "  'ERK': 1,\n",
       "  'SOS': 1,\n",
       "  'RAS': 1,\n",
       "  'MYC': 1,\n",
       "  'P21N': 1,\n",
       "  'CYCLIND1': 1,\n",
       "  'RB': 1,\n",
       "  'E2F': 1,\n",
       "  'CDC25A': 1,\n",
       "  'CYCLINECDK2': 1,\n",
       "  'HEME': 1}]"
      ]
     },
     "execution_count": 12,
     "metadata": {},
     "output_type": "execute_result"
    }
   ],
   "source": [
    "eqn_sys.find_all_fixed_points()"
   ]
  },
  {
   "cell_type": "code",
   "execution_count": 13,
   "id": "522a0f9f",
   "metadata": {},
   "outputs": [
    {
     "name": "stdout",
     "output_type": "stream",
     "text": [
      "17.8 s ± 253 ms per loop (mean ± std. dev. of 7 runs, 1 loop each)\n"
     ]
    }
   ],
   "source": [
    "%%timeit\n",
    "\n",
    "eqn_sys.find_all_fixed_points()"
   ]
  },
  {
   "cell_type": "code",
   "execution_count": null,
   "id": "36528a19",
   "metadata": {},
   "outputs": [],
   "source": []
  },
  {
   "cell_type": "code",
   "execution_count": null,
   "id": "1459f5da",
   "metadata": {},
   "outputs": [],
   "source": []
  },
  {
   "cell_type": "code",
   "execution_count": null,
   "id": "e91a8c0e",
   "metadata": {},
   "outputs": [],
   "source": []
  },
  {
   "cell_type": "code",
   "execution_count": null,
   "id": "e09ae2e0",
   "metadata": {},
   "outputs": [],
   "source": [
    "# create an equation system from a text-based update function\n",
    "eqn_sys = EquationSystem.from_text(\"\"\"\n",
    "LIP = (MAX(MIN(HEME,HO1),TFEND)) + 2*(MIN(NOT(FPN),MIN(NOT(FT),NOT(MFRN))))*(MAX(MIN(HEME,HO1),TFEND)) + (MIN(NOT(FPN),MIN(NOT(FT),NOT(MFRN))))^2 * (MAX(MIN(HEME,HO1),TFEND)) + 2*(MAX(MIN(HEME,HO1),TFEND))^2 + 2*(MIN(NOT(FPN),MIN(NOT(FT),NOT(MFRN))))* (MAX(MIN(HEME,HO1),TFEND))^2 + 2*(MIN(NOT(FPN),MIN(NOT(FT),NOT(MFRN))))^2 *(MAX(MIN(HEME,HO1),TFEND))^2\n",
    "TFEND = NOT(MFRN)^2*MIN(TF,TFR1)+MIN(TF,TFR1)^2+2*(NOT(MFRN)^2)*(MIN(TF,TFR1))^2\n",
    "TFR1=MAX(IRP1,MAX(IRP2,MAX(MIN(EGF,EGFR),MYC)))\n",
    "FPN=MIN(NOT(IRP1),MIN(NOT(IRP2),NOT(HEP)))\n",
    "FT=MIN(MIN(NOT(IRP1),NOT(IRP2)),NOT(NCOA4))\n",
    "IRP1=MIN(NOT(ISCU),NOT(FBXL5))\n",
    "IRP2=MAX(MIN(NOT(LIP),NOT(FBXL5)),MYC)\n",
    "HEP=MAX(STAT3,SMAD154)\n",
    "NCOA4=NOT(LIP)\n",
    "FBXL5=LIP\n",
    "LIPMT=MIN(MAX(MIN(MFRN,LIP),MIN(MFRN,MIN(TF,TFR1))),MIN(NOT(FTMT),NOT(FXN)))\n",
    "MFRN=NOT(LIPMT)\n",
    "FTMT=LIPMT\n",
    "ISCU=MIN(FXN, P53)\n",
    "FXN=MIN(P53,LIPMT)\n",
    "FECH=MIN(ISCU,FXN)\n",
    "HEME=MIN(MIN(ALAS1,FECH),NOT(HO1))\n",
    "ALAS1=MIN(NOT(HEME),LIPMT)\n",
    "HO1=MAX(HEME,NRF2)\n",
    "ROS = (MAX(LIP,MAX(RAS,MIN(EGF,EGFR)))) + 2*(NOT(AE))*(MAX(LIP,MAX(RAS,MIN(EGF,EGFR)))) + (NOT(AE))^2 *(MAX(LIP,MAX(RAS,MIN(EGF,EGFR)))) + 2*(MAX(LIP,MAX(RAS,MIN(EGF,EGFR))))^2 + 2*(NOT(AE))*(MAX(LIP,MAX(RAS,MIN(EGF,EGFR))))^2 + 2*(NOT(AE))^2*(MAX(LIP,MAX(RAS,MIN(EGF,EGFR))))^2\n",
    "KEAP1=MIN(NOT(ROS),NRF2)\n",
    "NRF2=MAX(MAX(RAS,ERK), MIN(2+2*KEAP1+(KEAP1^2)*P21C+2*(KEAP1^2)*P21C^2, NOT(GSK3B)))\n",
    "AE=MAX(P53,NRF2)\n",
    "EGFR=MIN(EGF+2*EGF*ROS+2*ROS*EGF^2+EGF*ROS^2+EGF^2*ROS^2,NOT(NDRG1))\n",
    "PTEN=MIN(MAX(ROCK,MAX(P53,NDRG1)),NOT(ROS))\n",
    "NDRG1=MAX(NOT(LIP),PTEN)\n",
    "AKT=PIP3\n",
    "PI3K=MAX(MIN(EGF,EGFR),RAS)\n",
    "PIP3=MIN(PI3K,NOT(PTEN))\n",
    "ERK=NOT(AKT)*MAX(PIP3,RAS)+2*(NOT(AKT))^2*MAX(PIP3,RAS)+(MAX(PIP3,RAS))^2+2*NOT(AKT)*(MAX(PIP3,RAS))^2+(NOT(AKT))^2*(MAX(PIP3,RAS))^2\n",
    "SOS=MIN(MIN(EGF,EGFR), NOT(ERK))\n",
    "RAS=MIN(SOS,NOT(GAP))\n",
    "GAP=MIN(EGF,EGFR)\n",
    "MYC=MIN(MAX(AKT,ERK),MIN(NOT(SMAD3),MIN(NOT(GSK3B),NOT(P53))))\n",
    "MDM2=MIN(MAX(AKT, P53),NOT(2*DNAD^2))\n",
    "P53=MAX(2*DNAD^2,MIN(MAX(PTEN,ERK),MIN(NOT(MDM2),MIN(NOT(STAT3),NOT(HEME)))))\n",
    "STAT3=MIN(MAX(IL6R,MIN(EGF,EGFR)),NOT(ERK))\n",
    "SMAD4=NDRG1\n",
    "SMAD3=TGFBR\n",
    "SMAD23=TGFBR+2*(TGFBR)^2+(NOT(ERK))^2*(TGFBR)^2\n",
    "SMAD234=(SMAD4)^2*(SMAD23)\n",
    "SMAD15=BMPR\n",
    "SMAD154=(SMAD4)^2*(SMAD15)\n",
    "ROCK=NOT(P21C)\n",
    "GSK3B=NOT(AKT)\n",
    "P15=SMAD234+2*(SMAD234)^2+(NOT(MYC))^2*(SMAD234)^2\n",
    "P21C=NOT(P21N)\n",
    "P21N=MAX(NDRG1,MAX(P53,SMAD234)) + 2*(MAX(NDRG1,MAX(P53,SMAD234)))^2 + (MIN(NOT(MYC),MIN(NOT(CYCLINECDK2),NOT(AKT))))^2*(MAX(NDRG1,MAX(P53,SMAD234)))^2\n",
    "CDK46=MYC+2*(MYC)^2+(NOT(P15))^2*(MYC)^2\n",
    "CYCLIND1=MIN(CDK46, MIN(2+2*GSK3B+P21N*GSK3B^2+2*GSK3B^2*P21N^2, ERK))\n",
    "CYCLIND1CDK46=CYCLIND1\n",
    "RB=MIN(NOT(CYCLIND1CDK46),NOT(CYCLINECDK2))\n",
    "E2F=MIN(MYC,NOT(RB))\n",
    "CDC25A=MIN(MIN(NOT(CYCLIND1CDK46),MIN(E2F,CYCLINECDK2)),NOT(2*DNAD^2))\n",
    "CYCLINECDK2=MIN(MAX(E2F,CDC25A),NOT(P21N))\n",
    "PCNA=MIN(E2F,NOT(P21N))\n",
    "RR=MAX(LIP,MAX(E2F,PCNA))\n",
    "TF=TF\n",
    "EGF=EGF\n",
    "IL6R=IL6R\n",
    "BMPR=BMPR\n",
    "TGFBR=TGFBR\n",
    "DNAD=DNAD\n",
    "\"\"\")\n",
    "\n",
    "eqn_sys"
   ]
  },
  {
   "cell_type": "code",
   "execution_count": null,
   "id": "fa9793e2",
   "metadata": {},
   "outputs": [],
   "source": [
    "counts = {var: 0 for var in eqn_sys.symbol_table()}\n",
    "for var in eqn_sys.formula_symbol_table():\n",
    "    for out_var, eqn in eqn_sys._equation_dict.items():\n",
    "        if var in eqn.get_variable_set():\n",
    "            counts[var] += 1\n",
    "            \n",
    "{var for var, count in counts.items() if count == 0}"
   ]
  },
  {
   "cell_type": "code",
   "execution_count": null,
   "id": "4a2193f6",
   "metadata": {},
   "outputs": [],
   "source": [
    "reduced_eqn_sys, dependant_sys = eqn_sys.as_poly_system().reduce_all_dependant_variables(dependancy_order=3)"
   ]
  },
  {
   "cell_type": "code",
   "execution_count": null,
   "id": "cda0964b",
   "metadata": {},
   "outputs": [],
   "source": [
    "dependant_sys"
   ]
  },
  {
   "cell_type": "code",
   "execution_count": null,
   "id": "45e0b494",
   "metadata": {},
   "outputs": [],
   "source": [
    "reduced_eqn_sys"
   ]
  },
  {
   "cell_type": "code",
   "execution_count": null,
   "id": "a15f99fa",
   "metadata": {},
   "outputs": [],
   "source": [
    "counts = {var: 0 for var in reduced_eqn_sys.symbol_table()}\n",
    "for var in eqn_sys.formula_symbol_table():\n",
    "    for out_var, eqn in reduced_eqn_sys._equation_dict.items():\n",
    "        if var in eqn.get_variable_set():\n",
    "            counts[var] += 1\n",
    "            \n",
    "{var for var, count in counts.items() if count == 0}"
   ]
  },
  {
   "cell_type": "code",
   "execution_count": null,
   "id": "5758c11a",
   "metadata": {},
   "outputs": [],
   "source": []
  },
  {
   "cell_type": "code",
   "execution_count": null,
   "id": "5ac2ae27",
   "metadata": {},
   "outputs": [],
   "source": [
    "eqn_sys.find_all_fixed_points()"
   ]
  },
  {
   "cell_type": "raw",
   "id": "02e3fe67",
   "metadata": {},
   "source": [
    "%%timeit -n 1\n",
    "\n",
    "eqn_sys.find_all_fixed_points()"
   ]
  },
  {
   "cell_type": "code",
   "execution_count": null,
   "id": "ee579cad",
   "metadata": {},
   "outputs": [],
   "source": []
  }
 ],
 "metadata": {
  "kernelspec": {
   "display_name": "Python 3",
   "language": "python",
   "name": "python3"
  },
  "language_info": {
   "codemirror_mode": {
    "name": "ipython",
    "version": 3
   },
   "file_extension": ".py",
   "mimetype": "text/x-python",
   "name": "python",
   "nbconvert_exporter": "python",
   "pygments_lexer": "ipython3",
   "version": "3.9.9"
  }
 },
 "nbformat": 4,
 "nbformat_minor": 5
}
